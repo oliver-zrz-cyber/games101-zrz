{
 "cells": [
  {
   "cell_type": "markdown",
   "id": "1c51b34b",
   "metadata": {},
   "source": [
    "## 采样\n",
    "\n",
    "\n",
    "### 1.背景知识简介\n",
    "#### α.why?\n",
    "----注意下----我们在进行mvp变换后还会有个视口变换\n",
    "我们要知道屏幕上的哪一个点需要什么样的颜色\n",
    "\n",
    "#### β.how?\n",
    "学会以下几点即可\n",
    "\n",
    "1.判定一个点是否在三角内部----这个用我们常用的叉乘就行\n",
    "\n",
    "2.找一下三角形的box 这个简单的，其实应该有更高效的算法的，可以遍历更少的格子----我们可以每一行做一次box 这个也是个小小的需要平衡的地方，每行做一次box也不是对所有情况都有加速作用\n",
    "\n",
    "3.明白z-buffer的工作原理----就是类似于我们桌面上有很多个窗口，我们需要知道哪一个窗口在更上面的位置，下面的就不显示了，z-buffer就是记录一个点的深度信息----这里是一个保存全局最小值对应的地方\n",
    "\n",
    "4.附加点： MSAA的实现---我们为了防止锯齿---选择更多次采样（注意这里并没有提高分辨率而是在一个pixel内部取更多的采样点然后进行采样）--具体实现见代码部分---我写了两种实现方式-----有一种注释掉了\n",
    "\n",
    "### 2.框架关键点解释\n",
    "\n",
    "跟上一次作业一致\n",
    "\n",
    "### 3.需要自己实现的部分\n",
    "\n",
    "1.判定一个点是否在三角内部\n",
    "2.找一下三角形的box \n",
    "3.MSAA\n",
    "\n",
    "### 4.一些有价值的问题:\n",
    "\n",
    "1.这个视口变换之后不会导致图形的扭曲吗"
   ]
  },
  {
   "cell_type": "code",
   "execution_count": null,
   "id": "e69256b8",
   "metadata": {},
   "outputs": [],
   "source": []
  }
 ],
 "metadata": {
  "kernelspec": {
   "display_name": "Python 3",
   "language": "python",
   "name": "python3"
  },
  "language_info": {
   "codemirror_mode": {
    "name": "ipython",
    "version": 3
   },
   "file_extension": ".py",
   "mimetype": "text/x-python",
   "name": "python",
   "nbconvert_exporter": "python",
   "pygments_lexer": "ipython3",
   "version": "3.8.8"
  }
 },
 "nbformat": 4,
 "nbformat_minor": 5
}

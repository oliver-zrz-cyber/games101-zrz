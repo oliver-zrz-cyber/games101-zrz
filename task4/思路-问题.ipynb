{
 "cells": [
  {
   "cell_type": "markdown",
   "id": "ca2b62cf",
   "metadata": {},
   "source": [
    "## 贝塞尔曲线\n",
    "\n",
    "\n",
    "### 1.背景知识简介\n",
    "一个优美的曲线，不过我花了一个半小时竟然没能画出一个❤来。贝塞尔曲线没考虑到表白的需求差评一下\n",
    "#### α.why?\n",
    "\n",
    "因为图形学用的到各种各样的曲线所以我们自然要用一种东西来构建他们\n",
    "\n",
    "#### β.how?\n",
    "\n",
    "比较简单相信看了games课的都能懂，不再赘述。\n",
    "\n",
    "### 2.框架关键点解释\n",
    "\n",
    "这就一个main也没啥要介绍的了\n",
    "\n",
    "### 3.需要自己实现的部分\n",
    "就递归的写一下怎么构建这个曲线就好了。这个作业真和作业8一样简单\n",
    "\n",
    "### 4.一些有价值的问题:\n",
    "\n",
    "1.怎么画出❤形状来\n",
    "\n",
    "2.画一个❤有没有办法反求贝塞尔点呢\n",
    "\n"
   ]
  }
 ],
 "metadata": {
  "kernelspec": {
   "display_name": "Python 3",
   "language": "python",
   "name": "python3"
  },
  "language_info": {
   "codemirror_mode": {
    "name": "ipython",
    "version": 3
   },
   "file_extension": ".py",
   "mimetype": "text/x-python",
   "name": "python",
   "nbconvert_exporter": "python",
   "pygments_lexer": "ipython3",
   "version": "3.8.8"
  }
 },
 "nbformat": 4,
 "nbformat_minor": 5
}

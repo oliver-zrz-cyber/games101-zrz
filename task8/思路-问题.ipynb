{
 "cells": [
  {
   "cell_type": "markdown",
   "id": "a0e8e436",
   "metadata": {},
   "source": [
    "## 弹簧系统\n",
    "\n",
    "\n",
    "### 1.背景知识简介\n",
    "### α.why?\n",
    "\n",
    "我们为了更好的仿真真实的世界，首先要进行仿真然后进行渲染，这两个部分可以看做是分开进行的\n",
    "\n",
    "#### β.how?\n",
    "\n",
    "games101只介绍了一点，我感觉这个会很有意思，后面有时间去看胡鸣渊的课\n",
    "\n",
    "### 2.框架关键点解释\n",
    "\n",
    "节点+线+两个点定出一个线  \n",
    "\n",
    "然后运用牛顿定律算一下加速度再利用那个欧拉法就可以实现第一个函数\n",
    "\n",
    "第二个要写的 函数就按照讲的显式Verlet来实现就好  和第一个函数的不同就在于其分配。\n",
    "\n",
    "### 3.需要自己实现的部分\n",
    "就按部就班的写一下作业要求里面的东西就好了。这个作业真和作业4一样简单。\n",
    "\n",
    "注意下蓝色的线是你第一个函数的，而绿色的线是你第二个函数的体现\n",
    "\n",
    "### 4.一些有价值的问题:\n",
    "\n",
    "1.仿真，我觉得有没有可能用很简单的定律去迎合复杂的东西，而不是为了很复杂的东西做一些很复杂的数学。\n",
    "\n"
   ]
  }
 ],
 "metadata": {
  "kernelspec": {
   "display_name": "Python 3",
   "language": "python",
   "name": "python3"
  },
  "language_info": {
   "codemirror_mode": {
    "name": "ipython",
    "version": 3
   },
   "file_extension": ".py",
   "mimetype": "text/x-python",
   "name": "python",
   "nbconvert_exporter": "python",
   "pygments_lexer": "ipython3",
   "version": "3.8.8"
  }
 },
 "nbformat": 4,
 "nbformat_minor": 5
}
